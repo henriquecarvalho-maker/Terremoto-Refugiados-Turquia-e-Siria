{
 "cells": [
  {
   "cell_type": "markdown",
   "id": "095e4720",
   "metadata": {},
   "source": [
    "<h1 style = 'color: blue;'>Análise Descritiva do Terremoto Turco Sirio</h1>\n",
    "<hr>"
   ]
  },
  {
   "cell_type": "code",
   "execution_count": 1,
   "id": "2b840cde",
   "metadata": {},
   "outputs": [],
   "source": [
    "import pandas as pd\n",
    "import numpy as np\n",
    "import seaborn as sns \n",
    "import matplotlib\n",
    "import matplotlib.pyplot as plt"
   ]
  },
  {
   "cell_type": "code",
   "execution_count": 2,
   "id": "d8387a40",
   "metadata": {},
   "outputs": [
    {
     "data": {
      "text/html": [
       "<div>\n",
       "<style scoped>\n",
       "    .dataframe tbody tr th:only-of-type {\n",
       "        vertical-align: middle;\n",
       "    }\n",
       "\n",
       "    .dataframe tbody tr th {\n",
       "        vertical-align: top;\n",
       "    }\n",
       "\n",
       "    .dataframe thead th {\n",
       "        text-align: right;\n",
       "    }\n",
       "</style>\n",
       "<table border=\"1\" class=\"dataframe\">\n",
       "  <thead>\n",
       "    <tr style=\"text-align: right;\">\n",
       "      <th></th>\n",
       "      <th>time</th>\n",
       "      <th>latitude</th>\n",
       "      <th>longitude</th>\n",
       "      <th>depth</th>\n",
       "      <th>mag</th>\n",
       "      <th>magType</th>\n",
       "      <th>nst</th>\n",
       "      <th>gap</th>\n",
       "      <th>dmin</th>\n",
       "      <th>rms</th>\n",
       "      <th>...</th>\n",
       "      <th>updated</th>\n",
       "      <th>place</th>\n",
       "      <th>type</th>\n",
       "      <th>horizontalError</th>\n",
       "      <th>depthError</th>\n",
       "      <th>magError</th>\n",
       "      <th>magNst</th>\n",
       "      <th>status</th>\n",
       "      <th>locationSource</th>\n",
       "      <th>magSource</th>\n",
       "    </tr>\n",
       "  </thead>\n",
       "  <tbody>\n",
       "    <tr>\n",
       "      <th>0</th>\n",
       "      <td>2023-01-09T07:11:57.677Z</td>\n",
       "      <td>35.5454</td>\n",
       "      <td>25.8502</td>\n",
       "      <td>10.000</td>\n",
       "      <td>4.1</td>\n",
       "      <td>mb</td>\n",
       "      <td>57</td>\n",
       "      <td>116</td>\n",
       "      <td>1.961</td>\n",
       "      <td>0.44</td>\n",
       "      <td>...</td>\n",
       "      <td>2023-01-09T15:19:27.617Z</td>\n",
       "      <td>33 km NNE of Eloúnda, Greece</td>\n",
       "      <td>earthquake</td>\n",
       "      <td>7.75</td>\n",
       "      <td>1.918</td>\n",
       "      <td>0.107</td>\n",
       "      <td>24</td>\n",
       "      <td>reviewed</td>\n",
       "      <td>us</td>\n",
       "      <td>us</td>\n",
       "    </tr>\n",
       "    <tr>\n",
       "      <th>1</th>\n",
       "      <td>2023-01-09T22:59:58.151Z</td>\n",
       "      <td>35.5311</td>\n",
       "      <td>25.8453</td>\n",
       "      <td>10.000</td>\n",
       "      <td>4.3</td>\n",
       "      <td>mb</td>\n",
       "      <td>61</td>\n",
       "      <td>60</td>\n",
       "      <td>1.970</td>\n",
       "      <td>0.73</td>\n",
       "      <td>...</td>\n",
       "      <td>2023-01-25T04:30:05.743Z</td>\n",
       "      <td>Crete, Greece</td>\n",
       "      <td>earthquake</td>\n",
       "      <td>5.34</td>\n",
       "      <td>1.848</td>\n",
       "      <td>0.077</td>\n",
       "      <td>48</td>\n",
       "      <td>reviewed</td>\n",
       "      <td>us</td>\n",
       "      <td>us</td>\n",
       "    </tr>\n",
       "    <tr>\n",
       "      <th>2</th>\n",
       "      <td>2023-01-10T07:38:31.473Z</td>\n",
       "      <td>39.4550</td>\n",
       "      <td>26.2697</td>\n",
       "      <td>10.000</td>\n",
       "      <td>4.9</td>\n",
       "      <td>mb</td>\n",
       "      <td>68</td>\n",
       "      <td>37</td>\n",
       "      <td>1.439</td>\n",
       "      <td>0.95</td>\n",
       "      <td>...</td>\n",
       "      <td>2023-01-10T20:16:11.040Z</td>\n",
       "      <td>6 km SW of Behram, Turkey</td>\n",
       "      <td>earthquake</td>\n",
       "      <td>5.41</td>\n",
       "      <td>1.875</td>\n",
       "      <td>0.101</td>\n",
       "      <td>31</td>\n",
       "      <td>reviewed</td>\n",
       "      <td>us</td>\n",
       "      <td>us</td>\n",
       "    </tr>\n",
       "    <tr>\n",
       "      <th>3</th>\n",
       "      <td>2023-01-10T18:11:09.764Z</td>\n",
       "      <td>35.5673</td>\n",
       "      <td>25.8830</td>\n",
       "      <td>10.264</td>\n",
       "      <td>4.4</td>\n",
       "      <td>mwr</td>\n",
       "      <td>76</td>\n",
       "      <td>56</td>\n",
       "      <td>1.928</td>\n",
       "      <td>0.58</td>\n",
       "      <td>...</td>\n",
       "      <td>2023-01-10T20:35:53.973Z</td>\n",
       "      <td>36 km NNE of Eloúnda, Greece</td>\n",
       "      <td>earthquake</td>\n",
       "      <td>7.49</td>\n",
       "      <td>4.274</td>\n",
       "      <td>0.098</td>\n",
       "      <td>10</td>\n",
       "      <td>reviewed</td>\n",
       "      <td>us</td>\n",
       "      <td>us</td>\n",
       "    </tr>\n",
       "    <tr>\n",
       "      <th>4</th>\n",
       "      <td>2023-01-11T09:52:28.318Z</td>\n",
       "      <td>37.9430</td>\n",
       "      <td>27.3214</td>\n",
       "      <td>10.000</td>\n",
       "      <td>3.2</td>\n",
       "      <td>ml</td>\n",
       "      <td>13</td>\n",
       "      <td>102</td>\n",
       "      <td>1.117</td>\n",
       "      <td>0.71</td>\n",
       "      <td>...</td>\n",
       "      <td>2023-01-26T05:48:48.899Z</td>\n",
       "      <td>4 km WSW of Selçuk, Turkey</td>\n",
       "      <td>earthquake</td>\n",
       "      <td>3.10</td>\n",
       "      <td>1.975</td>\n",
       "      <td>0.085</td>\n",
       "      <td>18</td>\n",
       "      <td>reviewed</td>\n",
       "      <td>us</td>\n",
       "      <td>us</td>\n",
       "    </tr>\n",
       "  </tbody>\n",
       "</table>\n",
       "<p>5 rows × 22 columns</p>\n",
       "</div>"
      ],
      "text/plain": [
       "                       time  latitude  longitude   depth  mag magType  nst  \\\n",
       "0  2023-01-09T07:11:57.677Z   35.5454    25.8502  10.000  4.1      mb   57   \n",
       "1  2023-01-09T22:59:58.151Z   35.5311    25.8453  10.000  4.3      mb   61   \n",
       "2  2023-01-10T07:38:31.473Z   39.4550    26.2697  10.000  4.9      mb   68   \n",
       "3  2023-01-10T18:11:09.764Z   35.5673    25.8830  10.264  4.4     mwr   76   \n",
       "4  2023-01-11T09:52:28.318Z   37.9430    27.3214  10.000  3.2      ml   13   \n",
       "\n",
       "   gap   dmin   rms  ...                   updated  \\\n",
       "0  116  1.961  0.44  ...  2023-01-09T15:19:27.617Z   \n",
       "1   60  1.970  0.73  ...  2023-01-25T04:30:05.743Z   \n",
       "2   37  1.439  0.95  ...  2023-01-10T20:16:11.040Z   \n",
       "3   56  1.928  0.58  ...  2023-01-10T20:35:53.973Z   \n",
       "4  102  1.117  0.71  ...  2023-01-26T05:48:48.899Z   \n",
       "\n",
       "                          place        type horizontalError depthError  \\\n",
       "0  33 km NNE of Eloúnda, Greece  earthquake            7.75      1.918   \n",
       "1                 Crete, Greece  earthquake            5.34      1.848   \n",
       "2     6 km SW of Behram, Turkey  earthquake            5.41      1.875   \n",
       "3  36 km NNE of Eloúnda, Greece  earthquake            7.49      4.274   \n",
       "4    4 km WSW of Selçuk, Turkey  earthquake            3.10      1.975   \n",
       "\n",
       "   magError  magNst    status  locationSource magSource  \n",
       "0     0.107      24  reviewed              us        us  \n",
       "1     0.077      48  reviewed              us        us  \n",
       "2     0.101      31  reviewed              us        us  \n",
       "3     0.098      10  reviewed              us        us  \n",
       "4     0.085      18  reviewed              us        us  \n",
       "\n",
       "[5 rows x 22 columns]"
      ]
     },
     "execution_count": 2,
     "metadata": {},
     "output_type": "execute_result"
    }
   ],
   "source": [
    "dados = pd.read_csv('dados/turkey_20230206_query.csv')\n",
    "dados.head()"
   ]
  },
  {
   "cell_type": "code",
   "execution_count": 3,
   "id": "c28c948d",
   "metadata": {},
   "outputs": [
    {
     "name": "stdout",
     "output_type": "stream",
     "text": [
      "Requirement already satisfied: plotly in c:\\users\\henri\\anaconda3\\lib\\site-packages (5.6.0)\n",
      "Requirement already satisfied: six in c:\\users\\henri\\anaconda3\\lib\\site-packages (from plotly) (1.16.0)\n",
      "Requirement already satisfied: tenacity>=6.2.0 in c:\\users\\henri\\anaconda3\\lib\\site-packages (from plotly) (8.0.1)\n",
      "Note: you may need to restart the kernel to use updated packages.\n"
     ]
    }
   ],
   "source": [
    "pip install plotly"
   ]
  },
  {
   "cell_type": "code",
   "execution_count": 4,
   "id": "4affee40",
   "metadata": {},
   "outputs": [],
   "source": [
    "import plotly.express as px"
   ]
  },
  {
   "cell_type": "code",
   "execution_count": 5,
   "id": "f39b4e02",
   "metadata": {},
   "outputs": [],
   "source": [
    "import plotly.graph_objects as go"
   ]
  },
  {
   "cell_type": "code",
   "execution_count": 6,
   "id": "6e42847c",
   "metadata": {},
   "outputs": [
    {
     "data": {
      "application/vnd.plotly.v1+json": {
       "config": {
        "plotlyServerURL": "https://plot.ly"
       },
       "data": [
        {
         "hovertemplate": "latitude=%{lat}<br>longitude=%{lon}<extra></extra>",
         "lat": [
          35.5454,
          35.5311,
          39.455,
          35.5673,
          37.943,
          38.3867,
          35.5003,
          34.593,
          34.5684,
          38.4173,
          38.4395,
          38.472,
          38.4062,
          39.4825,
          38.613,
          32.7149,
          36.089,
          34.6894,
          38.8604,
          35.7757,
          33.5453,
          38.4239,
          38.5084,
          38.6464,
          38.5096,
          38.41,
          35.7754,
          38.573,
          38.5646,
          38.5432,
          40.1409,
          37.1997,
          34.3437,
          37.1736,
          37.0538,
          37.1272,
          37.0175,
          37.9874,
          37.43,
          37.1023,
          37.3549,
          37.7769,
          37.0791,
          37.2035,
          36.6379,
          38.1844,
          37.7473,
          37.4711,
          38.0757,
          38.1983,
          37.7879,
          38.2387,
          37.5032,
          38.2034,
          37.8053,
          36.7445,
          37.4399,
          37.7637,
          37.7548,
          38.1466,
          36.3185,
          37.9912,
          36.5684,
          37.483,
          37.6414,
          36.7072,
          36.6629,
          37.449,
          38.054,
          36.9839,
          37.1957,
          38.0235,
          38.0302,
          38.0084,
          38.1236,
          37.4806,
          37.9231,
          37.82,
          38.0562,
          38.0358,
          38.0605,
          37.9016,
          38.1116,
          38.101,
          38.1181,
          37.9941,
          37.9966,
          37.9123,
          37.5953,
          37.9272,
          38.0339,
          37.8331,
          37.9517,
          36.7725,
          37.9949,
          38.1202,
          38.0912,
          37.9248,
          37.8679,
          38.161,
          38.0248,
          37.9847,
          38.0304,
          36.6111,
          37.9616,
          38.0975,
          37.9232,
          38.0974,
          38.0896,
          36.967,
          38.0906,
          38.1001,
          37.9794,
          37.9712,
          38.0636,
          37.4716,
          38.0272,
          38.1063,
          37.9592,
          37.9636,
          37.1694,
          37.987,
          38.2038,
          36.54,
          38.0646,
          38.0372,
          38.152,
          37.8818,
          38.0525,
          35.6093,
          38.0568,
          37.4314
         ],
         "legendgroup": "",
         "lon": [
          25.8502,
          25.8453,
          26.2697,
          25.883,
          27.3214,
          23.5246,
          36.6702,
          25.241,
          23.9247,
          39.1302,
          44.9455,
          44.9169,
          45.0078,
          25.8279,
          44.7799,
          23.4375,
          31.6537,
          36.4205,
          22.9215,
          28.5931,
          45.6996,
          44.9091,
          44.8234,
          44.8532,
          44.7975,
          44.8049,
          35.7382,
          44.5857,
          44.784,
          44.878,
          22.8066,
          36.5107,
          45.7045,
          37.032,
          37.086,
          36.9426,
          36.7443,
          38.1051,
          37.0869,
          36.6056,
          37.0939,
          37.9199,
          36.6898,
          36.9702,
          36.3874,
          38.4761,
          37.8035,
          37.3091,
          38.5607,
          38.5977,
          37.4088,
          38.581,
          37.3323,
          38.5363,
          37.4694,
          36.4537,
          37.1504,
          37.9099,
          37.9481,
          37.9304,
          36.2325,
          38.4376,
          36.0133,
          37.1811,
          37.3835,
          36.6722,
          36.477,
          37.2334,
          38.2569,
          36.4927,
          36.8183,
          37.203,
          37.9636,
          37.7505,
          38.0529,
          37.2218,
          36.6909,
          37.2952,
          36.5829,
          37.5511,
          36.537,
          37.4176,
          38.244,
          38.2227,
          36.6664,
          37.4183,
          36.689,
          36.3121,
          36.962,
          37.5076,
          36.5452,
          37.4605,
          37.3799,
          36.5341,
          36.5123,
          37.8325,
          38.4342,
          37.9099,
          37.7388,
          38.1869,
          37.0728,
          36.9072,
          36.6206,
          36.4444,
          36.4753,
          37.4326,
          37.3396,
          36.478,
          36.7014,
          36.7482,
          37.855,
          36.4785,
          36.45,
          36.3823,
          37.334,
          37.1628,
          38.179,
          36.6214,
          36.3495,
          36.4884,
          37.0781,
          36.5522,
          38.2945,
          36.4583,
          37.0764,
          36.6112,
          38.2301,
          37.4134,
          36.4229,
          35.3527,
          36.7401,
          37.2322
         ],
         "marker": {
          "color": "red"
         },
         "mode": "markers",
         "name": "",
         "showlegend": false,
         "subplot": "mapbox",
         "type": "scattermapbox"
        }
       ],
       "layout": {
        "height": 300,
        "legend": {
         "tracegroupgap": 0
        },
        "mapbox": {
         "center": {
          "lat": 37.560417424242445,
          "lon": 36.78936060606062
         },
         "domain": {
          "x": [
           0,
           1
          ],
          "y": [
           0,
           1
          ]
         },
         "style": "open-street-map",
         "zoom": 4
        },
        "margin": {
         "b": 0,
         "l": 0,
         "r": 0,
         "t": 0
        },
        "template": {
         "data": {
          "bar": [
           {
            "error_x": {
             "color": "#2a3f5f"
            },
            "error_y": {
             "color": "#2a3f5f"
            },
            "marker": {
             "line": {
              "color": "#E5ECF6",
              "width": 0.5
             },
             "pattern": {
              "fillmode": "overlay",
              "size": 10,
              "solidity": 0.2
             }
            },
            "type": "bar"
           }
          ],
          "barpolar": [
           {
            "marker": {
             "line": {
              "color": "#E5ECF6",
              "width": 0.5
             },
             "pattern": {
              "fillmode": "overlay",
              "size": 10,
              "solidity": 0.2
             }
            },
            "type": "barpolar"
           }
          ],
          "carpet": [
           {
            "aaxis": {
             "endlinecolor": "#2a3f5f",
             "gridcolor": "white",
             "linecolor": "white",
             "minorgridcolor": "white",
             "startlinecolor": "#2a3f5f"
            },
            "baxis": {
             "endlinecolor": "#2a3f5f",
             "gridcolor": "white",
             "linecolor": "white",
             "minorgridcolor": "white",
             "startlinecolor": "#2a3f5f"
            },
            "type": "carpet"
           }
          ],
          "choropleth": [
           {
            "colorbar": {
             "outlinewidth": 0,
             "ticks": ""
            },
            "type": "choropleth"
           }
          ],
          "contour": [
           {
            "colorbar": {
             "outlinewidth": 0,
             "ticks": ""
            },
            "colorscale": [
             [
              0,
              "#0d0887"
             ],
             [
              0.1111111111111111,
              "#46039f"
             ],
             [
              0.2222222222222222,
              "#7201a8"
             ],
             [
              0.3333333333333333,
              "#9c179e"
             ],
             [
              0.4444444444444444,
              "#bd3786"
             ],
             [
              0.5555555555555556,
              "#d8576b"
             ],
             [
              0.6666666666666666,
              "#ed7953"
             ],
             [
              0.7777777777777778,
              "#fb9f3a"
             ],
             [
              0.8888888888888888,
              "#fdca26"
             ],
             [
              1,
              "#f0f921"
             ]
            ],
            "type": "contour"
           }
          ],
          "contourcarpet": [
           {
            "colorbar": {
             "outlinewidth": 0,
             "ticks": ""
            },
            "type": "contourcarpet"
           }
          ],
          "heatmap": [
           {
            "colorbar": {
             "outlinewidth": 0,
             "ticks": ""
            },
            "colorscale": [
             [
              0,
              "#0d0887"
             ],
             [
              0.1111111111111111,
              "#46039f"
             ],
             [
              0.2222222222222222,
              "#7201a8"
             ],
             [
              0.3333333333333333,
              "#9c179e"
             ],
             [
              0.4444444444444444,
              "#bd3786"
             ],
             [
              0.5555555555555556,
              "#d8576b"
             ],
             [
              0.6666666666666666,
              "#ed7953"
             ],
             [
              0.7777777777777778,
              "#fb9f3a"
             ],
             [
              0.8888888888888888,
              "#fdca26"
             ],
             [
              1,
              "#f0f921"
             ]
            ],
            "type": "heatmap"
           }
          ],
          "heatmapgl": [
           {
            "colorbar": {
             "outlinewidth": 0,
             "ticks": ""
            },
            "colorscale": [
             [
              0,
              "#0d0887"
             ],
             [
              0.1111111111111111,
              "#46039f"
             ],
             [
              0.2222222222222222,
              "#7201a8"
             ],
             [
              0.3333333333333333,
              "#9c179e"
             ],
             [
              0.4444444444444444,
              "#bd3786"
             ],
             [
              0.5555555555555556,
              "#d8576b"
             ],
             [
              0.6666666666666666,
              "#ed7953"
             ],
             [
              0.7777777777777778,
              "#fb9f3a"
             ],
             [
              0.8888888888888888,
              "#fdca26"
             ],
             [
              1,
              "#f0f921"
             ]
            ],
            "type": "heatmapgl"
           }
          ],
          "histogram": [
           {
            "marker": {
             "pattern": {
              "fillmode": "overlay",
              "size": 10,
              "solidity": 0.2
             }
            },
            "type": "histogram"
           }
          ],
          "histogram2d": [
           {
            "colorbar": {
             "outlinewidth": 0,
             "ticks": ""
            },
            "colorscale": [
             [
              0,
              "#0d0887"
             ],
             [
              0.1111111111111111,
              "#46039f"
             ],
             [
              0.2222222222222222,
              "#7201a8"
             ],
             [
              0.3333333333333333,
              "#9c179e"
             ],
             [
              0.4444444444444444,
              "#bd3786"
             ],
             [
              0.5555555555555556,
              "#d8576b"
             ],
             [
              0.6666666666666666,
              "#ed7953"
             ],
             [
              0.7777777777777778,
              "#fb9f3a"
             ],
             [
              0.8888888888888888,
              "#fdca26"
             ],
             [
              1,
              "#f0f921"
             ]
            ],
            "type": "histogram2d"
           }
          ],
          "histogram2dcontour": [
           {
            "colorbar": {
             "outlinewidth": 0,
             "ticks": ""
            },
            "colorscale": [
             [
              0,
              "#0d0887"
             ],
             [
              0.1111111111111111,
              "#46039f"
             ],
             [
              0.2222222222222222,
              "#7201a8"
             ],
             [
              0.3333333333333333,
              "#9c179e"
             ],
             [
              0.4444444444444444,
              "#bd3786"
             ],
             [
              0.5555555555555556,
              "#d8576b"
             ],
             [
              0.6666666666666666,
              "#ed7953"
             ],
             [
              0.7777777777777778,
              "#fb9f3a"
             ],
             [
              0.8888888888888888,
              "#fdca26"
             ],
             [
              1,
              "#f0f921"
             ]
            ],
            "type": "histogram2dcontour"
           }
          ],
          "mesh3d": [
           {
            "colorbar": {
             "outlinewidth": 0,
             "ticks": ""
            },
            "type": "mesh3d"
           }
          ],
          "parcoords": [
           {
            "line": {
             "colorbar": {
              "outlinewidth": 0,
              "ticks": ""
             }
            },
            "type": "parcoords"
           }
          ],
          "pie": [
           {
            "automargin": true,
            "type": "pie"
           }
          ],
          "scatter": [
           {
            "marker": {
             "colorbar": {
              "outlinewidth": 0,
              "ticks": ""
             }
            },
            "type": "scatter"
           }
          ],
          "scatter3d": [
           {
            "line": {
             "colorbar": {
              "outlinewidth": 0,
              "ticks": ""
             }
            },
            "marker": {
             "colorbar": {
              "outlinewidth": 0,
              "ticks": ""
             }
            },
            "type": "scatter3d"
           }
          ],
          "scattercarpet": [
           {
            "marker": {
             "colorbar": {
              "outlinewidth": 0,
              "ticks": ""
             }
            },
            "type": "scattercarpet"
           }
          ],
          "scattergeo": [
           {
            "marker": {
             "colorbar": {
              "outlinewidth": 0,
              "ticks": ""
             }
            },
            "type": "scattergeo"
           }
          ],
          "scattergl": [
           {
            "marker": {
             "colorbar": {
              "outlinewidth": 0,
              "ticks": ""
             }
            },
            "type": "scattergl"
           }
          ],
          "scattermapbox": [
           {
            "marker": {
             "colorbar": {
              "outlinewidth": 0,
              "ticks": ""
             }
            },
            "type": "scattermapbox"
           }
          ],
          "scatterpolar": [
           {
            "marker": {
             "colorbar": {
              "outlinewidth": 0,
              "ticks": ""
             }
            },
            "type": "scatterpolar"
           }
          ],
          "scatterpolargl": [
           {
            "marker": {
             "colorbar": {
              "outlinewidth": 0,
              "ticks": ""
             }
            },
            "type": "scatterpolargl"
           }
          ],
          "scatterternary": [
           {
            "marker": {
             "colorbar": {
              "outlinewidth": 0,
              "ticks": ""
             }
            },
            "type": "scatterternary"
           }
          ],
          "surface": [
           {
            "colorbar": {
             "outlinewidth": 0,
             "ticks": ""
            },
            "colorscale": [
             [
              0,
              "#0d0887"
             ],
             [
              0.1111111111111111,
              "#46039f"
             ],
             [
              0.2222222222222222,
              "#7201a8"
             ],
             [
              0.3333333333333333,
              "#9c179e"
             ],
             [
              0.4444444444444444,
              "#bd3786"
             ],
             [
              0.5555555555555556,
              "#d8576b"
             ],
             [
              0.6666666666666666,
              "#ed7953"
             ],
             [
              0.7777777777777778,
              "#fb9f3a"
             ],
             [
              0.8888888888888888,
              "#fdca26"
             ],
             [
              1,
              "#f0f921"
             ]
            ],
            "type": "surface"
           }
          ],
          "table": [
           {
            "cells": {
             "fill": {
              "color": "#EBF0F8"
             },
             "line": {
              "color": "white"
             }
            },
            "header": {
             "fill": {
              "color": "#C8D4E3"
             },
             "line": {
              "color": "white"
             }
            },
            "type": "table"
           }
          ]
         },
         "layout": {
          "annotationdefaults": {
           "arrowcolor": "#2a3f5f",
           "arrowhead": 0,
           "arrowwidth": 1
          },
          "autotypenumbers": "strict",
          "coloraxis": {
           "colorbar": {
            "outlinewidth": 0,
            "ticks": ""
           }
          },
          "colorscale": {
           "diverging": [
            [
             0,
             "#8e0152"
            ],
            [
             0.1,
             "#c51b7d"
            ],
            [
             0.2,
             "#de77ae"
            ],
            [
             0.3,
             "#f1b6da"
            ],
            [
             0.4,
             "#fde0ef"
            ],
            [
             0.5,
             "#f7f7f7"
            ],
            [
             0.6,
             "#e6f5d0"
            ],
            [
             0.7,
             "#b8e186"
            ],
            [
             0.8,
             "#7fbc41"
            ],
            [
             0.9,
             "#4d9221"
            ],
            [
             1,
             "#276419"
            ]
           ],
           "sequential": [
            [
             0,
             "#0d0887"
            ],
            [
             0.1111111111111111,
             "#46039f"
            ],
            [
             0.2222222222222222,
             "#7201a8"
            ],
            [
             0.3333333333333333,
             "#9c179e"
            ],
            [
             0.4444444444444444,
             "#bd3786"
            ],
            [
             0.5555555555555556,
             "#d8576b"
            ],
            [
             0.6666666666666666,
             "#ed7953"
            ],
            [
             0.7777777777777778,
             "#fb9f3a"
            ],
            [
             0.8888888888888888,
             "#fdca26"
            ],
            [
             1,
             "#f0f921"
            ]
           ],
           "sequentialminus": [
            [
             0,
             "#0d0887"
            ],
            [
             0.1111111111111111,
             "#46039f"
            ],
            [
             0.2222222222222222,
             "#7201a8"
            ],
            [
             0.3333333333333333,
             "#9c179e"
            ],
            [
             0.4444444444444444,
             "#bd3786"
            ],
            [
             0.5555555555555556,
             "#d8576b"
            ],
            [
             0.6666666666666666,
             "#ed7953"
            ],
            [
             0.7777777777777778,
             "#fb9f3a"
            ],
            [
             0.8888888888888888,
             "#fdca26"
            ],
            [
             1,
             "#f0f921"
            ]
           ]
          },
          "colorway": [
           "#636efa",
           "#EF553B",
           "#00cc96",
           "#ab63fa",
           "#FFA15A",
           "#19d3f3",
           "#FF6692",
           "#B6E880",
           "#FF97FF",
           "#FECB52"
          ],
          "font": {
           "color": "#2a3f5f"
          },
          "geo": {
           "bgcolor": "white",
           "lakecolor": "white",
           "landcolor": "#E5ECF6",
           "showlakes": true,
           "showland": true,
           "subunitcolor": "white"
          },
          "hoverlabel": {
           "align": "left"
          },
          "hovermode": "closest",
          "mapbox": {
           "style": "light"
          },
          "paper_bgcolor": "white",
          "plot_bgcolor": "#E5ECF6",
          "polar": {
           "angularaxis": {
            "gridcolor": "white",
            "linecolor": "white",
            "ticks": ""
           },
           "bgcolor": "#E5ECF6",
           "radialaxis": {
            "gridcolor": "white",
            "linecolor": "white",
            "ticks": ""
           }
          },
          "scene": {
           "xaxis": {
            "backgroundcolor": "#E5ECF6",
            "gridcolor": "white",
            "gridwidth": 2,
            "linecolor": "white",
            "showbackground": true,
            "ticks": "",
            "zerolinecolor": "white"
           },
           "yaxis": {
            "backgroundcolor": "#E5ECF6",
            "gridcolor": "white",
            "gridwidth": 2,
            "linecolor": "white",
            "showbackground": true,
            "ticks": "",
            "zerolinecolor": "white"
           },
           "zaxis": {
            "backgroundcolor": "#E5ECF6",
            "gridcolor": "white",
            "gridwidth": 2,
            "linecolor": "white",
            "showbackground": true,
            "ticks": "",
            "zerolinecolor": "white"
           }
          },
          "shapedefaults": {
           "line": {
            "color": "#2a3f5f"
           }
          },
          "ternary": {
           "aaxis": {
            "gridcolor": "white",
            "linecolor": "white",
            "ticks": ""
           },
           "baxis": {
            "gridcolor": "white",
            "linecolor": "white",
            "ticks": ""
           },
           "bgcolor": "#E5ECF6",
           "caxis": {
            "gridcolor": "white",
            "linecolor": "white",
            "ticks": ""
           }
          },
          "title": {
           "x": 0.05
          },
          "xaxis": {
           "automargin": true,
           "gridcolor": "white",
           "linecolor": "white",
           "ticks": "",
           "title": {
            "standoff": 15
           },
           "zerolinecolor": "white",
           "zerolinewidth": 2
          },
          "yaxis": {
           "automargin": true,
           "gridcolor": "white",
           "linecolor": "white",
           "ticks": "",
           "title": {
            "standoff": 15
           },
           "zerolinecolor": "white",
           "zerolinewidth": 2
          }
         }
        }
       }
      }
     },
     "metadata": {},
     "output_type": "display_data"
    }
   ],
   "source": [
    "fig = px.scatter_mapbox(dados, \n",
    "                        lat= dados['latitude'], \n",
    "                        lon = dados['longitude'], \n",
    "                        zoom=4,\n",
    "                        height=300,\n",
    "                        color_discrete_sequence=['red'])\n",
    "fig.update_layout(mapbox_style=\"open-street-map\")\n",
    "fig.update_layout(margin={\"r\":0,\"t\":0,\"l\":0,\"b\":0})\n",
    "fig.show()"
   ]
  },
  {
   "cell_type": "code",
   "execution_count": 7,
   "id": "f33ae9ae",
   "metadata": {},
   "outputs": [
    {
     "data": {
      "application/vnd.plotly.v1+json": {
       "config": {
        "plotlyServerURL": "https://plot.ly"
       },
       "data": [
        {
         "coloraxis": "coloraxis",
         "hovertemplate": "mag=%{z}<br>latitude=%{lat}<br>longitude=%{lon}<extra></extra>",
         "lat": [
          35.5454,
          35.5311,
          39.455,
          35.5673,
          37.943,
          38.3867,
          35.5003,
          34.593,
          34.5684,
          38.4173,
          38.4395,
          38.472,
          38.4062,
          39.4825,
          38.613,
          32.7149,
          36.089,
          34.6894,
          38.8604,
          35.7757,
          33.5453,
          38.4239,
          38.5084,
          38.6464,
          38.5096,
          38.41,
          35.7754,
          38.573,
          38.5646,
          38.5432,
          40.1409,
          37.1997,
          34.3437,
          37.1736,
          37.0538,
          37.1272,
          37.0175,
          37.9874,
          37.43,
          37.1023,
          37.3549,
          37.7769,
          37.0791,
          37.2035,
          36.6379,
          38.1844,
          37.7473,
          37.4711,
          38.0757,
          38.1983,
          37.7879,
          38.2387,
          37.5032,
          38.2034,
          37.8053,
          36.7445,
          37.4399,
          37.7637,
          37.7548,
          38.1466,
          36.3185,
          37.9912,
          36.5684,
          37.483,
          37.6414,
          36.7072,
          36.6629,
          37.449,
          38.054,
          36.9839,
          37.1957,
          38.0235,
          38.0302,
          38.0084,
          38.1236,
          37.4806,
          37.9231,
          37.82,
          38.0562,
          38.0358,
          38.0605,
          37.9016,
          38.1116,
          38.101,
          38.1181,
          37.9941,
          37.9966,
          37.9123,
          37.5953,
          37.9272,
          38.0339,
          37.8331,
          37.9517,
          36.7725,
          37.9949,
          38.1202,
          38.0912,
          37.9248,
          37.8679,
          38.161,
          38.0248,
          37.9847,
          38.0304,
          36.6111,
          37.9616,
          38.0975,
          37.9232,
          38.0974,
          38.0896,
          36.967,
          38.0906,
          38.1001,
          37.9794,
          37.9712,
          38.0636,
          37.4716,
          38.0272,
          38.1063,
          37.9592,
          37.9636,
          37.1694,
          37.987,
          38.2038,
          36.54,
          38.0646,
          38.0372,
          38.152,
          37.8818,
          38.0525,
          35.6093,
          38.0568,
          37.4314
         ],
         "lon": [
          25.8502,
          25.8453,
          26.2697,
          25.883,
          27.3214,
          23.5246,
          36.6702,
          25.241,
          23.9247,
          39.1302,
          44.9455,
          44.9169,
          45.0078,
          25.8279,
          44.7799,
          23.4375,
          31.6537,
          36.4205,
          22.9215,
          28.5931,
          45.6996,
          44.9091,
          44.8234,
          44.8532,
          44.7975,
          44.8049,
          35.7382,
          44.5857,
          44.784,
          44.878,
          22.8066,
          36.5107,
          45.7045,
          37.032,
          37.086,
          36.9426,
          36.7443,
          38.1051,
          37.0869,
          36.6056,
          37.0939,
          37.9199,
          36.6898,
          36.9702,
          36.3874,
          38.4761,
          37.8035,
          37.3091,
          38.5607,
          38.5977,
          37.4088,
          38.581,
          37.3323,
          38.5363,
          37.4694,
          36.4537,
          37.1504,
          37.9099,
          37.9481,
          37.9304,
          36.2325,
          38.4376,
          36.0133,
          37.1811,
          37.3835,
          36.6722,
          36.477,
          37.2334,
          38.2569,
          36.4927,
          36.8183,
          37.203,
          37.9636,
          37.7505,
          38.0529,
          37.2218,
          36.6909,
          37.2952,
          36.5829,
          37.5511,
          36.537,
          37.4176,
          38.244,
          38.2227,
          36.6664,
          37.4183,
          36.689,
          36.3121,
          36.962,
          37.5076,
          36.5452,
          37.4605,
          37.3799,
          36.5341,
          36.5123,
          37.8325,
          38.4342,
          37.9099,
          37.7388,
          38.1869,
          37.0728,
          36.9072,
          36.6206,
          36.4444,
          36.4753,
          37.4326,
          37.3396,
          36.478,
          36.7014,
          36.7482,
          37.855,
          36.4785,
          36.45,
          36.3823,
          37.334,
          37.1628,
          38.179,
          36.6214,
          36.3495,
          36.4884,
          37.0781,
          36.5522,
          38.2945,
          36.4583,
          37.0764,
          36.6112,
          38.2301,
          37.4134,
          36.4229,
          35.3527,
          36.7401,
          37.2322
         ],
         "name": "",
         "radius": 15,
         "subplot": "mapbox",
         "type": "densitymapbox",
         "z": [
          4.1,
          4.3,
          4.9,
          4.4,
          3.2,
          4.1,
          4.4,
          4.5,
          4.2,
          4.7,
          5.7,
          4.3,
          4.4,
          4.3,
          4.2,
          4.1,
          4.2,
          4.3,
          4.6,
          5.9,
          4.6,
          5.9,
          4.5,
          4.1,
          4.7,
          4.5,
          4.3,
          4.1,
          4.2,
          4,
          4.6,
          4.2,
          4.7,
          7.8,
          5.6,
          6.7,
          5.6,
          4.9,
          4.7,
          5.1,
          4.8,
          5.5,
          4.8,
          5.2,
          4.6,
          4.7,
          4.4,
          4.5,
          4.4,
          4.8,
          4.3,
          4.4,
          4.5,
          5,
          4.3,
          4.4,
          4.6,
          4.6,
          4.4,
          4.4,
          4.6,
          4.5,
          4.6,
          4.6,
          4.8,
          4.6,
          4.5,
          4.8,
          4.5,
          4.6,
          4.3,
          7.5,
          6,
          5.8,
          5.7,
          5,
          5.2,
          4.9,
          4.8,
          4.8,
          6,
          4.8,
          4.9,
          4.7,
          4.5,
          5,
          4.7,
          4.9,
          5.1,
          5,
          4.4,
          4.5,
          4.4,
          4.5,
          4.7,
          4.4,
          4.4,
          4.5,
          5.3,
          5.2,
          4.3,
          4.6,
          4.8,
          4.9,
          5,
          4.5,
          4.3,
          4.1,
          4.7,
          4.5,
          4.5,
          4.4,
          5.3,
          4.4,
          4.4,
          4.3,
          4.6,
          4.3,
          4.7,
          4.2,
          5.3,
          5,
          4.9,
          4.4,
          4.8,
          5.1,
          4.4,
          4.3,
          4.4,
          4.5,
          4.1,
          4.3
         ]
        }
       ],
       "layout": {
        "coloraxis": {
         "colorbar": {
          "title": {
           "text": "mag"
          }
         },
         "colorscale": [
          [
           0,
           "#0d0887"
          ],
          [
           0.1111111111111111,
           "#46039f"
          ],
          [
           0.2222222222222222,
           "#7201a8"
          ],
          [
           0.3333333333333333,
           "#9c179e"
          ],
          [
           0.4444444444444444,
           "#bd3786"
          ],
          [
           0.5555555555555556,
           "#d8576b"
          ],
          [
           0.6666666666666666,
           "#ed7953"
          ],
          [
           0.7777777777777778,
           "#fb9f3a"
          ],
          [
           0.8888888888888888,
           "#fdca26"
          ],
          [
           1,
           "#f0f921"
          ]
         ]
        },
        "legend": {
         "tracegroupgap": 0
        },
        "mapbox": {
         "center": {
          "lat": 37.560417424242445,
          "lon": 36.78936060606062
         },
         "domain": {
          "x": [
           0,
           1
          ],
          "y": [
           0,
           1
          ]
         },
         "style": "open-street-map",
         "zoom": 4
        },
        "margin": {
         "t": 60
        },
        "template": {
         "data": {
          "bar": [
           {
            "error_x": {
             "color": "#2a3f5f"
            },
            "error_y": {
             "color": "#2a3f5f"
            },
            "marker": {
             "line": {
              "color": "#E5ECF6",
              "width": 0.5
             },
             "pattern": {
              "fillmode": "overlay",
              "size": 10,
              "solidity": 0.2
             }
            },
            "type": "bar"
           }
          ],
          "barpolar": [
           {
            "marker": {
             "line": {
              "color": "#E5ECF6",
              "width": 0.5
             },
             "pattern": {
              "fillmode": "overlay",
              "size": 10,
              "solidity": 0.2
             }
            },
            "type": "barpolar"
           }
          ],
          "carpet": [
           {
            "aaxis": {
             "endlinecolor": "#2a3f5f",
             "gridcolor": "white",
             "linecolor": "white",
             "minorgridcolor": "white",
             "startlinecolor": "#2a3f5f"
            },
            "baxis": {
             "endlinecolor": "#2a3f5f",
             "gridcolor": "white",
             "linecolor": "white",
             "minorgridcolor": "white",
             "startlinecolor": "#2a3f5f"
            },
            "type": "carpet"
           }
          ],
          "choropleth": [
           {
            "colorbar": {
             "outlinewidth": 0,
             "ticks": ""
            },
            "type": "choropleth"
           }
          ],
          "contour": [
           {
            "colorbar": {
             "outlinewidth": 0,
             "ticks": ""
            },
            "colorscale": [
             [
              0,
              "#0d0887"
             ],
             [
              0.1111111111111111,
              "#46039f"
             ],
             [
              0.2222222222222222,
              "#7201a8"
             ],
             [
              0.3333333333333333,
              "#9c179e"
             ],
             [
              0.4444444444444444,
              "#bd3786"
             ],
             [
              0.5555555555555556,
              "#d8576b"
             ],
             [
              0.6666666666666666,
              "#ed7953"
             ],
             [
              0.7777777777777778,
              "#fb9f3a"
             ],
             [
              0.8888888888888888,
              "#fdca26"
             ],
             [
              1,
              "#f0f921"
             ]
            ],
            "type": "contour"
           }
          ],
          "contourcarpet": [
           {
            "colorbar": {
             "outlinewidth": 0,
             "ticks": ""
            },
            "type": "contourcarpet"
           }
          ],
          "heatmap": [
           {
            "colorbar": {
             "outlinewidth": 0,
             "ticks": ""
            },
            "colorscale": [
             [
              0,
              "#0d0887"
             ],
             [
              0.1111111111111111,
              "#46039f"
             ],
             [
              0.2222222222222222,
              "#7201a8"
             ],
             [
              0.3333333333333333,
              "#9c179e"
             ],
             [
              0.4444444444444444,
              "#bd3786"
             ],
             [
              0.5555555555555556,
              "#d8576b"
             ],
             [
              0.6666666666666666,
              "#ed7953"
             ],
             [
              0.7777777777777778,
              "#fb9f3a"
             ],
             [
              0.8888888888888888,
              "#fdca26"
             ],
             [
              1,
              "#f0f921"
             ]
            ],
            "type": "heatmap"
           }
          ],
          "heatmapgl": [
           {
            "colorbar": {
             "outlinewidth": 0,
             "ticks": ""
            },
            "colorscale": [
             [
              0,
              "#0d0887"
             ],
             [
              0.1111111111111111,
              "#46039f"
             ],
             [
              0.2222222222222222,
              "#7201a8"
             ],
             [
              0.3333333333333333,
              "#9c179e"
             ],
             [
              0.4444444444444444,
              "#bd3786"
             ],
             [
              0.5555555555555556,
              "#d8576b"
             ],
             [
              0.6666666666666666,
              "#ed7953"
             ],
             [
              0.7777777777777778,
              "#fb9f3a"
             ],
             [
              0.8888888888888888,
              "#fdca26"
             ],
             [
              1,
              "#f0f921"
             ]
            ],
            "type": "heatmapgl"
           }
          ],
          "histogram": [
           {
            "marker": {
             "pattern": {
              "fillmode": "overlay",
              "size": 10,
              "solidity": 0.2
             }
            },
            "type": "histogram"
           }
          ],
          "histogram2d": [
           {
            "colorbar": {
             "outlinewidth": 0,
             "ticks": ""
            },
            "colorscale": [
             [
              0,
              "#0d0887"
             ],
             [
              0.1111111111111111,
              "#46039f"
             ],
             [
              0.2222222222222222,
              "#7201a8"
             ],
             [
              0.3333333333333333,
              "#9c179e"
             ],
             [
              0.4444444444444444,
              "#bd3786"
             ],
             [
              0.5555555555555556,
              "#d8576b"
             ],
             [
              0.6666666666666666,
              "#ed7953"
             ],
             [
              0.7777777777777778,
              "#fb9f3a"
             ],
             [
              0.8888888888888888,
              "#fdca26"
             ],
             [
              1,
              "#f0f921"
             ]
            ],
            "type": "histogram2d"
           }
          ],
          "histogram2dcontour": [
           {
            "colorbar": {
             "outlinewidth": 0,
             "ticks": ""
            },
            "colorscale": [
             [
              0,
              "#0d0887"
             ],
             [
              0.1111111111111111,
              "#46039f"
             ],
             [
              0.2222222222222222,
              "#7201a8"
             ],
             [
              0.3333333333333333,
              "#9c179e"
             ],
             [
              0.4444444444444444,
              "#bd3786"
             ],
             [
              0.5555555555555556,
              "#d8576b"
             ],
             [
              0.6666666666666666,
              "#ed7953"
             ],
             [
              0.7777777777777778,
              "#fb9f3a"
             ],
             [
              0.8888888888888888,
              "#fdca26"
             ],
             [
              1,
              "#f0f921"
             ]
            ],
            "type": "histogram2dcontour"
           }
          ],
          "mesh3d": [
           {
            "colorbar": {
             "outlinewidth": 0,
             "ticks": ""
            },
            "type": "mesh3d"
           }
          ],
          "parcoords": [
           {
            "line": {
             "colorbar": {
              "outlinewidth": 0,
              "ticks": ""
             }
            },
            "type": "parcoords"
           }
          ],
          "pie": [
           {
            "automargin": true,
            "type": "pie"
           }
          ],
          "scatter": [
           {
            "marker": {
             "colorbar": {
              "outlinewidth": 0,
              "ticks": ""
             }
            },
            "type": "scatter"
           }
          ],
          "scatter3d": [
           {
            "line": {
             "colorbar": {
              "outlinewidth": 0,
              "ticks": ""
             }
            },
            "marker": {
             "colorbar": {
              "outlinewidth": 0,
              "ticks": ""
             }
            },
            "type": "scatter3d"
           }
          ],
          "scattercarpet": [
           {
            "marker": {
             "colorbar": {
              "outlinewidth": 0,
              "ticks": ""
             }
            },
            "type": "scattercarpet"
           }
          ],
          "scattergeo": [
           {
            "marker": {
             "colorbar": {
              "outlinewidth": 0,
              "ticks": ""
             }
            },
            "type": "scattergeo"
           }
          ],
          "scattergl": [
           {
            "marker": {
             "colorbar": {
              "outlinewidth": 0,
              "ticks": ""
             }
            },
            "type": "scattergl"
           }
          ],
          "scattermapbox": [
           {
            "marker": {
             "colorbar": {
              "outlinewidth": 0,
              "ticks": ""
             }
            },
            "type": "scattermapbox"
           }
          ],
          "scatterpolar": [
           {
            "marker": {
             "colorbar": {
              "outlinewidth": 0,
              "ticks": ""
             }
            },
            "type": "scatterpolar"
           }
          ],
          "scatterpolargl": [
           {
            "marker": {
             "colorbar": {
              "outlinewidth": 0,
              "ticks": ""
             }
            },
            "type": "scatterpolargl"
           }
          ],
          "scatterternary": [
           {
            "marker": {
             "colorbar": {
              "outlinewidth": 0,
              "ticks": ""
             }
            },
            "type": "scatterternary"
           }
          ],
          "surface": [
           {
            "colorbar": {
             "outlinewidth": 0,
             "ticks": ""
            },
            "colorscale": [
             [
              0,
              "#0d0887"
             ],
             [
              0.1111111111111111,
              "#46039f"
             ],
             [
              0.2222222222222222,
              "#7201a8"
             ],
             [
              0.3333333333333333,
              "#9c179e"
             ],
             [
              0.4444444444444444,
              "#bd3786"
             ],
             [
              0.5555555555555556,
              "#d8576b"
             ],
             [
              0.6666666666666666,
              "#ed7953"
             ],
             [
              0.7777777777777778,
              "#fb9f3a"
             ],
             [
              0.8888888888888888,
              "#fdca26"
             ],
             [
              1,
              "#f0f921"
             ]
            ],
            "type": "surface"
           }
          ],
          "table": [
           {
            "cells": {
             "fill": {
              "color": "#EBF0F8"
             },
             "line": {
              "color": "white"
             }
            },
            "header": {
             "fill": {
              "color": "#C8D4E3"
             },
             "line": {
              "color": "white"
             }
            },
            "type": "table"
           }
          ]
         },
         "layout": {
          "annotationdefaults": {
           "arrowcolor": "#2a3f5f",
           "arrowhead": 0,
           "arrowwidth": 1
          },
          "autotypenumbers": "strict",
          "coloraxis": {
           "colorbar": {
            "outlinewidth": 0,
            "ticks": ""
           }
          },
          "colorscale": {
           "diverging": [
            [
             0,
             "#8e0152"
            ],
            [
             0.1,
             "#c51b7d"
            ],
            [
             0.2,
             "#de77ae"
            ],
            [
             0.3,
             "#f1b6da"
            ],
            [
             0.4,
             "#fde0ef"
            ],
            [
             0.5,
             "#f7f7f7"
            ],
            [
             0.6,
             "#e6f5d0"
            ],
            [
             0.7,
             "#b8e186"
            ],
            [
             0.8,
             "#7fbc41"
            ],
            [
             0.9,
             "#4d9221"
            ],
            [
             1,
             "#276419"
            ]
           ],
           "sequential": [
            [
             0,
             "#0d0887"
            ],
            [
             0.1111111111111111,
             "#46039f"
            ],
            [
             0.2222222222222222,
             "#7201a8"
            ],
            [
             0.3333333333333333,
             "#9c179e"
            ],
            [
             0.4444444444444444,
             "#bd3786"
            ],
            [
             0.5555555555555556,
             "#d8576b"
            ],
            [
             0.6666666666666666,
             "#ed7953"
            ],
            [
             0.7777777777777778,
             "#fb9f3a"
            ],
            [
             0.8888888888888888,
             "#fdca26"
            ],
            [
             1,
             "#f0f921"
            ]
           ],
           "sequentialminus": [
            [
             0,
             "#0d0887"
            ],
            [
             0.1111111111111111,
             "#46039f"
            ],
            [
             0.2222222222222222,
             "#7201a8"
            ],
            [
             0.3333333333333333,
             "#9c179e"
            ],
            [
             0.4444444444444444,
             "#bd3786"
            ],
            [
             0.5555555555555556,
             "#d8576b"
            ],
            [
             0.6666666666666666,
             "#ed7953"
            ],
            [
             0.7777777777777778,
             "#fb9f3a"
            ],
            [
             0.8888888888888888,
             "#fdca26"
            ],
            [
             1,
             "#f0f921"
            ]
           ]
          },
          "colorway": [
           "#636efa",
           "#EF553B",
           "#00cc96",
           "#ab63fa",
           "#FFA15A",
           "#19d3f3",
           "#FF6692",
           "#B6E880",
           "#FF97FF",
           "#FECB52"
          ],
          "font": {
           "color": "#2a3f5f"
          },
          "geo": {
           "bgcolor": "white",
           "lakecolor": "white",
           "landcolor": "#E5ECF6",
           "showlakes": true,
           "showland": true,
           "subunitcolor": "white"
          },
          "hoverlabel": {
           "align": "left"
          },
          "hovermode": "closest",
          "mapbox": {
           "style": "light"
          },
          "paper_bgcolor": "white",
          "plot_bgcolor": "#E5ECF6",
          "polar": {
           "angularaxis": {
            "gridcolor": "white",
            "linecolor": "white",
            "ticks": ""
           },
           "bgcolor": "#E5ECF6",
           "radialaxis": {
            "gridcolor": "white",
            "linecolor": "white",
            "ticks": ""
           }
          },
          "scene": {
           "xaxis": {
            "backgroundcolor": "#E5ECF6",
            "gridcolor": "white",
            "gridwidth": 2,
            "linecolor": "white",
            "showbackground": true,
            "ticks": "",
            "zerolinecolor": "white"
           },
           "yaxis": {
            "backgroundcolor": "#E5ECF6",
            "gridcolor": "white",
            "gridwidth": 2,
            "linecolor": "white",
            "showbackground": true,
            "ticks": "",
            "zerolinecolor": "white"
           },
           "zaxis": {
            "backgroundcolor": "#E5ECF6",
            "gridcolor": "white",
            "gridwidth": 2,
            "linecolor": "white",
            "showbackground": true,
            "ticks": "",
            "zerolinecolor": "white"
           }
          },
          "shapedefaults": {
           "line": {
            "color": "#2a3f5f"
           }
          },
          "ternary": {
           "aaxis": {
            "gridcolor": "white",
            "linecolor": "white",
            "ticks": ""
           },
           "baxis": {
            "gridcolor": "white",
            "linecolor": "white",
            "ticks": ""
           },
           "bgcolor": "#E5ECF6",
           "caxis": {
            "gridcolor": "white",
            "linecolor": "white",
            "ticks": ""
           }
          },
          "title": {
           "x": 0.05
          },
          "xaxis": {
           "automargin": true,
           "gridcolor": "white",
           "linecolor": "white",
           "ticks": "",
           "title": {
            "standoff": 15
           },
           "zerolinecolor": "white",
           "zerolinewidth": 2
          },
          "yaxis": {
           "automargin": true,
           "gridcolor": "white",
           "linecolor": "white",
           "ticks": "",
           "title": {
            "standoff": 15
           },
           "zerolinecolor": "white",
           "zerolinewidth": 2
          }
         }
        }
       }
      }
     },
     "metadata": {},
     "output_type": "display_data"
    }
   ],
   "source": [
    "fig = px.density_mapbox(dados, lat=dados['latitude'], lon=dados['longitude'], z=dados['mag'], radius=15,\n",
    "                        zoom=4,\n",
    "                        mapbox_style=\"open-street-map\")\n",
    "fig.show()"
   ]
  },
  {
   "cell_type": "code",
   "execution_count": 8,
   "id": "532c677b",
   "metadata": {},
   "outputs": [
    {
     "data": {
      "text/plain": [
       "Index(['time', 'latitude', 'longitude', 'depth', 'mag', 'magType', 'nst',\n",
       "       'gap', 'dmin', 'rms', 'net', 'id', 'updated', 'place', 'type',\n",
       "       'horizontalError', 'depthError', 'magError', 'magNst', 'status',\n",
       "       'locationSource', 'magSource'],\n",
       "      dtype='object')"
      ]
     },
     "execution_count": 8,
     "metadata": {},
     "output_type": "execute_result"
    }
   ],
   "source": [
    "dados.columns"
   ]
  },
  {
   "cell_type": "code",
   "execution_count": null,
   "id": "7b1d1685",
   "metadata": {},
   "outputs": [],
   "source": []
  }
 ],
 "metadata": {
  "kernelspec": {
   "display_name": "base",
   "language": "python",
   "name": "python3"
  },
  "language_info": {
   "codemirror_mode": {
    "name": "ipython",
    "version": 3
   },
   "file_extension": ".py",
   "mimetype": "text/x-python",
   "name": "python",
   "nbconvert_exporter": "python",
   "pygments_lexer": "ipython3",
   "version": "3.9.12"
  },
  "vscode": {
   "interpreter": {
    "hash": "b4dbf65eb2934af93dfe8402dc5043295a9b874b2f4a935919e1627f38520e4d"
   }
  }
 },
 "nbformat": 4,
 "nbformat_minor": 5
}
